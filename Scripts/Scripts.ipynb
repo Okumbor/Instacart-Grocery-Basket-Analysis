{
 "cells": [
  {
   "cell_type": "markdown",
   "id": "2efc74ca",
   "metadata": {},
   "source": [
    "print (\"Hello World\")\n"
   ]
  },
  {
   "cell_type": "code",
   "execution_count": 3,
   "id": "bda9d45d",
   "metadata": {},
   "outputs": [
    {
     "name": "stdout",
     "output_type": "stream",
     "text": [
      "Hello World!\n"
     ]
    }
   ],
   "source": [
    "print (\"Hello World!\")"
   ]
  },
  {
   "cell_type": "markdown",
   "id": "e947588e",
   "metadata": {},
   "source": [
    "## IMPORTING LIBRARIES"
   ]
  },
  {
   "cell_type": "code",
   "execution_count": 5,
   "id": "bedda8e8",
   "metadata": {},
   "outputs": [],
   "source": [
    "#import libraries\n",
    "\n",
    "import pandas as pd\n",
    "import numpy as np\n",
    "import os"
   ]
  },
  {
   "cell_type": "markdown",
   "id": "8e083622",
   "metadata": {},
   "source": [
    "## Data types"
   ]
  },
  {
   "cell_type": "code",
   "execution_count": 8,
   "id": "96aef623",
   "metadata": {},
   "outputs": [],
   "source": [
    "x = 2\n"
   ]
  },
  {
   "cell_type": "code",
   "execution_count": 9,
   "id": "3394cb8e",
   "metadata": {},
   "outputs": [
    {
     "data": {
      "text/plain": [
       "2"
      ]
     },
     "execution_count": 9,
     "metadata": {},
     "output_type": "execute_result"
    }
   ],
   "source": [
    "x"
   ]
  },
  {
   "cell_type": "code",
   "execution_count": 10,
   "id": "c665d7e7",
   "metadata": {},
   "outputs": [
    {
     "name": "stdout",
     "output_type": "stream",
     "text": [
      "2\n"
     ]
    }
   ],
   "source": [
    "print(x)"
   ]
  },
  {
   "cell_type": "code",
   "execution_count": 11,
   "id": "25a98278",
   "metadata": {},
   "outputs": [
    {
     "data": {
      "text/plain": [
       "int"
      ]
     },
     "execution_count": 11,
     "metadata": {},
     "output_type": "execute_result"
    }
   ],
   "source": [
    "type(x)"
   ]
  },
  {
   "cell_type": "code",
   "execution_count": 34,
   "id": "7e8416e2",
   "metadata": {},
   "outputs": [
    {
     "name": "stdout",
     "output_type": "stream",
     "text": [
      "100\n"
     ]
    }
   ],
   "source": [
    "x = 50 +50\n",
    "print(x)"
   ]
  },
  {
   "cell_type": "code",
   "execution_count": 33,
   "id": "974158d0",
   "metadata": {},
   "outputs": [
    {
     "data": {
      "text/plain": [
       "100"
      ]
     },
     "execution_count": 33,
     "metadata": {},
     "output_type": "execute_result"
    }
   ],
   "source": [
    "76 + 24"
   ]
  },
  {
   "cell_type": "code",
   "execution_count": 36,
   "id": "084ca698",
   "metadata": {},
   "outputs": [
    {
     "data": {
      "text/plain": [
       "100"
      ]
     },
     "execution_count": 36,
     "metadata": {},
     "output_type": "execute_result"
    }
   ],
   "source": [
    "256 - 156"
   ]
  },
  {
   "cell_type": "code",
   "execution_count": 38,
   "id": "796a91e3",
   "metadata": {},
   "outputs": [],
   "source": [
    "y = 75.5 + 86.43"
   ]
  },
  {
   "cell_type": "code",
   "execution_count": 40,
   "id": "2dcbd308",
   "metadata": {},
   "outputs": [],
   "source": [
    "i = 832.9 - 635.7"
   ]
  },
  {
   "cell_type": "code",
   "execution_count": 43,
   "id": "dabae320",
   "metadata": {},
   "outputs": [
    {
     "name": "stdout",
     "output_type": "stream",
     "text": [
      "161.93    197.19999999999993    0.8211460446247467\n"
     ]
    }
   ],
   "source": [
    "print(y,'  ',\n",
    "     i,'  ',\n",
    "     y/i)"
   ]
  },
  {
   "cell_type": "code",
   "execution_count": 44,
   "id": "adec7814",
   "metadata": {},
   "outputs": [],
   "source": [
    "w= 'Ready to get'  \n",
    "x = 'your hands' \n",
    "y = 'dirty with some code.'"
   ]
  },
  {
   "cell_type": "code",
   "execution_count": 45,
   "id": "cb92279c",
   "metadata": {},
   "outputs": [
    {
     "name": "stdout",
     "output_type": "stream",
     "text": [
      "Ready to get your hands dirty with some code\n"
     ]
    }
   ],
   "source": [
    "print(w + ' ' + x + ' '+y)"
   ]
  },
  {
   "cell_type": "code",
   "execution_count": 46,
   "id": "cfc67023",
   "metadata": {},
   "outputs": [],
   "source": [
    "h = 'Wait!' \n",
    "u = 'You have some unread messages.'"
   ]
  },
  {
   "cell_type": "code",
   "execution_count": 51,
   "id": "170b28e1",
   "metadata": {},
   "outputs": [
    {
     "name": "stdout",
     "output_type": "stream",
     "text": [
      "Ready to get your hands dirty with some code Wait! You have some unread messages.\n"
     ]
    }
   ],
   "source": [
    "abc = w + ' ' + x + ' ' + y +' ' + h + ' ' + u\n",
    "print(abc)"
   ]
  },
  {
   "cell_type": "code",
   "execution_count": null,
   "id": "9a475e66",
   "metadata": {},
   "outputs": [],
   "source": []
  },
  {
   "cell_type": "code",
   "execution_count": 12,
   "id": "4c3eda71",
   "metadata": {},
   "outputs": [],
   "source": [
    "y=5.968"
   ]
  },
  {
   "cell_type": "code",
   "execution_count": null,
   "id": "d3a147af",
   "metadata": {},
   "outputs": [],
   "source": []
  },
  {
   "cell_type": "code",
   "execution_count": 13,
   "id": "810e2032",
   "metadata": {},
   "outputs": [
    {
     "data": {
      "text/plain": [
       "5.968"
      ]
     },
     "execution_count": 13,
     "metadata": {},
     "output_type": "execute_result"
    }
   ],
   "source": [
    "y"
   ]
  },
  {
   "cell_type": "code",
   "execution_count": 14,
   "id": "b88a51f7",
   "metadata": {},
   "outputs": [
    {
     "data": {
      "text/plain": [
       "float"
      ]
     },
     "execution_count": 14,
     "metadata": {},
     "output_type": "execute_result"
    }
   ],
   "source": [
    "type(y)"
   ]
  },
  {
   "cell_type": "code",
   "execution_count": 15,
   "id": "483008b5",
   "metadata": {},
   "outputs": [],
   "source": [
    "country = 'Brazil'"
   ]
  },
  {
   "cell_type": "code",
   "execution_count": 16,
   "id": "3142098a",
   "metadata": {},
   "outputs": [
    {
     "data": {
      "text/plain": [
       "'Brazil'"
      ]
     },
     "execution_count": 16,
     "metadata": {},
     "output_type": "execute_result"
    }
   ],
   "source": [
    "country"
   ]
  },
  {
   "cell_type": "code",
   "execution_count": 17,
   "id": "9a0cb849",
   "metadata": {},
   "outputs": [
    {
     "data": {
      "text/plain": [
       "str"
      ]
     },
     "execution_count": 17,
     "metadata": {},
     "output_type": "execute_result"
    }
   ],
   "source": [
    "type(country)"
   ]
  },
  {
   "cell_type": "code",
   "execution_count": 18,
   "id": "5d3cb8a5",
   "metadata": {},
   "outputs": [],
   "source": [
    "first = 'i am working towards my first project'\n"
   ]
  },
  {
   "cell_type": "code",
   "execution_count": 19,
   "id": "bfda28ad",
   "metadata": {},
   "outputs": [],
   "source": [
    "isItTrue = True"
   ]
  },
  {
   "cell_type": "code",
   "execution_count": 20,
   "id": "dd579fd8",
   "metadata": {},
   "outputs": [
    {
     "data": {
      "text/plain": [
       "bool"
      ]
     },
     "execution_count": 20,
     "metadata": {},
     "output_type": "execute_result"
    }
   ],
   "source": [
    "type(isItTrue)"
   ]
  },
  {
   "cell_type": "code",
   "execution_count": 21,
   "id": "5014ddee",
   "metadata": {},
   "outputs": [
    {
     "data": {
      "text/plain": [
       "7"
      ]
     },
     "execution_count": 21,
     "metadata": {},
     "output_type": "execute_result"
    }
   ],
   "source": [
    "x + 5"
   ]
  },
  {
   "cell_type": "code",
   "execution_count": 22,
   "id": "4ba96966",
   "metadata": {},
   "outputs": [
    {
     "data": {
      "text/plain": [
       "2"
      ]
     },
     "execution_count": 22,
     "metadata": {},
     "output_type": "execute_result"
    }
   ],
   "source": [
    "x"
   ]
  },
  {
   "cell_type": "code",
   "execution_count": 23,
   "id": "7d5fa80f",
   "metadata": {},
   "outputs": [
    {
     "data": {
      "text/plain": [
       "7.968"
      ]
     },
     "execution_count": 23,
     "metadata": {},
     "output_type": "execute_result"
    }
   ],
   "source": [
    "x + y"
   ]
  },
  {
   "cell_type": "code",
   "execution_count": 25,
   "id": "448b6b4b",
   "metadata": {},
   "outputs": [
    {
     "name": "stdout",
     "output_type": "stream",
     "text": [
      "2 5.968 Brazil\n"
     ]
    }
   ],
   "source": [
    "print(x,y, country)"
   ]
  },
  {
   "cell_type": "code",
   "execution_count": 28,
   "id": "5b88fbea",
   "metadata": {},
   "outputs": [],
   "source": [
    "a = 'Hello, '"
   ]
  },
  {
   "cell_type": "code",
   "execution_count": 26,
   "id": "31a0b875",
   "metadata": {},
   "outputs": [],
   "source": [
    "b = 'World!'"
   ]
  },
  {
   "cell_type": "code",
   "execution_count": 29,
   "id": "bd723c01",
   "metadata": {},
   "outputs": [
    {
     "name": "stdout",
     "output_type": "stream",
     "text": [
      "Hello,  World!\n"
     ]
    }
   ],
   "source": [
    "print(a,b)"
   ]
  },
  {
   "cell_type": "code",
   "execution_count": 30,
   "id": "171f64de",
   "metadata": {},
   "outputs": [
    {
     "data": {
      "text/plain": [
       "False"
      ]
     },
     "execution_count": 30,
     "metadata": {},
     "output_type": "execute_result"
    }
   ],
   "source": [
    "x == y"
   ]
  },
  {
   "cell_type": "code",
   "execution_count": null,
   "id": "a2e5d2fa",
   "metadata": {},
   "outputs": [],
   "source": []
  },
  {
   "cell_type": "code",
   "execution_count": null,
   "id": "99d9d682",
   "metadata": {},
   "outputs": [],
   "source": []
  }
 ],
 "metadata": {
  "kernelspec": {
   "display_name": "Python 3 (ipykernel)",
   "language": "python",
   "name": "python3"
  },
  "language_info": {
   "codemirror_mode": {
    "name": "ipython",
    "version": 3
   },
   "file_extension": ".py",
   "mimetype": "text/x-python",
   "name": "python",
   "nbconvert_exporter": "python",
   "pygments_lexer": "ipython3",
   "version": "3.9.7"
  }
 },
 "nbformat": 4,
 "nbformat_minor": 5
}
