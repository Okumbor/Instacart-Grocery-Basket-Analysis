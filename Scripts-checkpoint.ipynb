{
 "cells": [
  {
   "cell_type": "markdown",
   "id": "417b963f",
   "metadata": {},
   "source": [
    "print (\"Hello World\")\n"
   ]
  },
  {
   "cell_type": "code",
   "execution_count": 3,
   "id": "3658d5ef",
   "metadata": {},
   "outputs": [
    {
     "name": "stdout",
     "output_type": "stream",
     "text": [
      "Hello World!\n"
     ]
    }
   ],
   "source": [
    "print (\"Hello World!\")"
   ]
  },
  {
   "cell_type": "markdown",
   "id": "16d3ae17",
   "metadata": {},
   "source": [
    "## IMPORTING LIBRARIES"
   ]
  },
  {
   "cell_type": "code",
   "execution_count": 5,
   "id": "9ab86095",
   "metadata": {},
   "outputs": [],
   "source": [
    "#import libraries\n",
    "\n",
    "import pandas as pd\n",
    "import numpy as np\n",
    "import os"
   ]
  },
  {
   "cell_type": "markdown",
   "id": "380436dd",
   "metadata": {},
   "source": [
    "## Data types"
   ]
  },
  {
   "cell_type": "code",
   "execution_count": 8,
   "id": "0b46e773",
   "metadata": {},
   "outputs": [],
   "source": [
    "x = 2\n"
   ]
  },
  {
   "cell_type": "code",
   "execution_count": 9,
   "id": "534b14bd",
   "metadata": {},
   "outputs": [
    {
     "data": {
      "text/plain": [
       "2"
      ]
     },
     "execution_count": 9,
     "metadata": {},
     "output_type": "execute_result"
    }
   ],
   "source": [
    "x"
   ]
  },
  {
   "cell_type": "code",
   "execution_count": 10,
   "id": "9ecee165",
   "metadata": {},
   "outputs": [
    {
     "name": "stdout",
     "output_type": "stream",
     "text": [
      "2\n"
     ]
    }
   ],
   "source": [
    "print(x)"
   ]
  },
  {
   "cell_type": "code",
   "execution_count": 11,
   "id": "a06b4120",
   "metadata": {},
   "outputs": [
    {
     "data": {
      "text/plain": [
       "int"
      ]
     },
     "execution_count": 11,
     "metadata": {},
     "output_type": "execute_result"
    }
   ],
   "source": [
    "type(x)"
   ]
  },
  {
   "cell_type": "code",
   "execution_count": 34,
   "id": "e9c5f35c",
   "metadata": {},
   "outputs": [
    {
     "name": "stdout",
     "output_type": "stream",
     "text": [
      "100\n"
     ]
    }
   ],
   "source": [
    "x = 50 +50\n",
    "print(x)"
   ]
  },
  {
   "cell_type": "code",
   "execution_count": 33,
   "id": "8d76006b",
   "metadata": {},
   "outputs": [
    {
     "data": {
      "text/plain": [
       "100"
      ]
     },
     "execution_count": 33,
     "metadata": {},
     "output_type": "execute_result"
    }
   ],
   "source": [
    "76 + 24"
   ]
  },
  {
   "cell_type": "code",
   "execution_count": 36,
   "id": "e23a149b",
   "metadata": {},
   "outputs": [
    {
     "data": {
      "text/plain": [
       "100"
      ]
     },
     "execution_count": 36,
     "metadata": {},
     "output_type": "execute_result"
    }
   ],
   "source": [
    "256 - 156"
   ]
  },
  {
   "cell_type": "code",
   "execution_count": 38,
   "id": "baa3742f",
   "metadata": {},
   "outputs": [],
   "source": [
    "y = 75.5 + 86.43"
   ]
  },
  {
   "cell_type": "code",
   "execution_count": 40,
   "id": "e97f2670",
   "metadata": {},
   "outputs": [],
   "source": [
    "i = 832.9 - 635.7"
   ]
  },
  {
   "cell_type": "code",
   "execution_count": 43,
   "id": "74dce265",
   "metadata": {},
   "outputs": [
    {
     "name": "stdout",
     "output_type": "stream",
     "text": [
      "161.93    197.19999999999993    0.8211460446247467\n"
     ]
    }
   ],
   "source": [
    "print(y,'  ',\n",
    "     i,'  ',\n",
    "     y/i)"
   ]
  },
  {
   "cell_type": "code",
   "execution_count": 44,
   "id": "59beac07",
   "metadata": {},
   "outputs": [],
   "source": [
    "w= 'Ready to get'  \n",
    "x = 'your hands' \n",
    "y = 'dirty with some code.'"
   ]
  },
  {
   "cell_type": "code",
   "execution_count": 45,
   "id": "7c97247a",
   "metadata": {},
   "outputs": [
    {
     "name": "stdout",
     "output_type": "stream",
     "text": [
      "Ready to get your hands dirty with some code\n"
     ]
    }
   ],
   "source": [
    "print(w + ' ' + x + ' '+y)"
   ]
  },
  {
   "cell_type": "code",
   "execution_count": 46,
   "id": "69ddc6a1",
   "metadata": {},
   "outputs": [],
   "source": [
    "h = 'Wait!' \n",
    "u = 'You have some unread messages.'"
   ]
  },
  {
   "cell_type": "code",
   "execution_count": 51,
   "id": "e0efd49b",
   "metadata": {},
   "outputs": [
    {
     "name": "stdout",
     "output_type": "stream",
     "text": [
      "Ready to get your hands dirty with some code Wait! You have some unread messages.\n"
     ]
    }
   ],
   "source": [
    "abc = w + ' ' + x + ' ' + y +' ' + h + ' ' + u\n",
    "print(abc)"
   ]
  },
  {
   "cell_type": "code",
   "execution_count": null,
   "id": "828861ce",
   "metadata": {},
   "outputs": [],
   "source": []
  },
  {
   "cell_type": "code",
   "execution_count": 12,
   "id": "f4478925",
   "metadata": {},
   "outputs": [],
   "source": [
    "y=5.968"
   ]
  },
  {
   "cell_type": "code",
   "execution_count": null,
   "id": "8f050cd6",
   "metadata": {},
   "outputs": [],
   "source": []
  },
  {
   "cell_type": "code",
   "execution_count": 13,
   "id": "4216bf7b",
   "metadata": {},
   "outputs": [
    {
     "data": {
      "text/plain": [
       "5.968"
      ]
     },
     "execution_count": 13,
     "metadata": {},
     "output_type": "execute_result"
    }
   ],
   "source": [
    "y"
   ]
  },
  {
   "cell_type": "code",
   "execution_count": 14,
   "id": "791ee801",
   "metadata": {},
   "outputs": [
    {
     "data": {
      "text/plain": [
       "float"
      ]
     },
     "execution_count": 14,
     "metadata": {},
     "output_type": "execute_result"
    }
   ],
   "source": [
    "type(y)"
   ]
  },
  {
   "cell_type": "code",
   "execution_count": 15,
   "id": "acb01f1d",
   "metadata": {},
   "outputs": [],
   "source": [
    "country = 'Brazil'"
   ]
  },
  {
   "cell_type": "code",
   "execution_count": 16,
   "id": "6e12053e",
   "metadata": {},
   "outputs": [
    {
     "data": {
      "text/plain": [
       "'Brazil'"
      ]
     },
     "execution_count": 16,
     "metadata": {},
     "output_type": "execute_result"
    }
   ],
   "source": [
    "country"
   ]
  },
  {
   "cell_type": "code",
   "execution_count": 17,
   "id": "5c779b88",
   "metadata": {},
   "outputs": [
    {
     "data": {
      "text/plain": [
       "str"
      ]
     },
     "execution_count": 17,
     "metadata": {},
     "output_type": "execute_result"
    }
   ],
   "source": [
    "type(country)"
   ]
  },
  {
   "cell_type": "code",
   "execution_count": 18,
   "id": "8d31dbcd",
   "metadata": {},
   "outputs": [],
   "source": [
    "first = 'i am working towards my first project'\n"
   ]
  },
  {
   "cell_type": "code",
   "execution_count": 19,
   "id": "d44eded0",
   "metadata": {},
   "outputs": [],
   "source": [
    "isItTrue = True"
   ]
  },
  {
   "cell_type": "code",
   "execution_count": 20,
   "id": "8dbadf47",
   "metadata": {},
   "outputs": [
    {
     "data": {
      "text/plain": [
       "bool"
      ]
     },
     "execution_count": 20,
     "metadata": {},
     "output_type": "execute_result"
    }
   ],
   "source": [
    "type(isItTrue)"
   ]
  },
  {
   "cell_type": "code",
   "execution_count": 21,
   "id": "1b0ab032",
   "metadata": {},
   "outputs": [
    {
     "data": {
      "text/plain": [
       "7"
      ]
     },
     "execution_count": 21,
     "metadata": {},
     "output_type": "execute_result"
    }
   ],
   "source": [
    "x + 5"
   ]
  },
  {
   "cell_type": "code",
   "execution_count": 22,
   "id": "050cecb0",
   "metadata": {},
   "outputs": [
    {
     "data": {
      "text/plain": [
       "2"
      ]
     },
     "execution_count": 22,
     "metadata": {},
     "output_type": "execute_result"
    }
   ],
   "source": [
    "x"
   ]
  },
  {
   "cell_type": "code",
   "execution_count": 23,
   "id": "a1a17bcd",
   "metadata": {},
   "outputs": [
    {
     "data": {
      "text/plain": [
       "7.968"
      ]
     },
     "execution_count": 23,
     "metadata": {},
     "output_type": "execute_result"
    }
   ],
   "source": [
    "x + y"
   ]
  },
  {
   "cell_type": "code",
   "execution_count": 25,
   "id": "bcdb6f07",
   "metadata": {},
   "outputs": [
    {
     "name": "stdout",
     "output_type": "stream",
     "text": [
      "2 5.968 Brazil\n"
     ]
    }
   ],
   "source": [
    "print(x,y, country)"
   ]
  },
  {
   "cell_type": "code",
   "execution_count": 28,
   "id": "13b04821",
   "metadata": {},
   "outputs": [],
   "source": [
    "a = 'Hello, '"
   ]
  },
  {
   "cell_type": "code",
   "execution_count": 26,
   "id": "c94ccf87",
   "metadata": {},
   "outputs": [],
   "source": [
    "b = 'World!'"
   ]
  },
  {
   "cell_type": "code",
   "execution_count": 29,
   "id": "89c3a1d8",
   "metadata": {},
   "outputs": [
    {
     "name": "stdout",
     "output_type": "stream",
     "text": [
      "Hello,  World!\n"
     ]
    }
   ],
   "source": [
    "print(a,b)"
   ]
  },
  {
   "cell_type": "code",
   "execution_count": 30,
   "id": "d460c165",
   "metadata": {},
   "outputs": [
    {
     "data": {
      "text/plain": [
       "False"
      ]
     },
     "execution_count": 30,
     "metadata": {},
     "output_type": "execute_result"
    }
   ],
   "source": [
    "x == y"
   ]
  },
  {
   "cell_type": "code",
   "execution_count": null,
   "id": "74daab61",
   "metadata": {},
   "outputs": [],
   "source": []
  },
  {
   "cell_type": "code",
   "execution_count": null,
   "id": "5fa5defe",
   "metadata": {},
   "outputs": [],
   "source": []
  }
 ],
 "metadata": {
  "kernelspec": {
   "display_name": "Python 3 (ipykernel)",
   "language": "python",
   "name": "python3"
  },
  "language_info": {
   "codemirror_mode": {
    "name": "ipython",
    "version": 3
   },
   "file_extension": ".py",
   "mimetype": "text/x-python",
   "name": "python",
   "nbconvert_exporter": "python",
   "pygments_lexer": "ipython3",
   "version": "3.9.7"
  }
 },
 "nbformat": 4,
 "nbformat_minor": 5
}
